{
 "cells": [
  {
   "cell_type": "code",
   "execution_count": 65,
   "metadata": {},
   "outputs": [],
   "source": [
    "import pandas as pd\n",
    "import numpy as np\n",
    "from datasets import Dataset,ClassLabel,DatasetDict\n",
    "import os"
   ]
  },
  {
   "cell_type": "code",
   "execution_count": 66,
   "metadata": {},
   "outputs": [],
   "source": [
    "mapper = {\"O\":0,\"B\":1,\"I\":2}\n",
    "labels_name = [\"O\",\"B-Disease\",\"I-Disease\"]"
   ]
  },
  {
   "cell_type": "code",
   "execution_count": 67,
   "metadata": {},
   "outputs": [],
   "source": [
    "def create_dataset(path,id_prefix,mapper = None):\n",
    "    with open(path, 'r') as f:\n",
    "        lines = f.readlines()\n",
    "        corpus =[]\n",
    "        sentences = []\n",
    "        for line in lines:\n",
    "            if line != '\\n':\n",
    "                sentences.append(line)\n",
    "            else:\n",
    "                corpus.append(sentences)\n",
    "                sentences = []\n",
    "        id = []\n",
    "        word = []\n",
    "        tag = []\n",
    "        for i,lines in enumerate(corpus):\n",
    "            for line in lines:\n",
    "                word_tag = line.replace(\"\\n\",'').split('\\t')\n",
    "                id.append(id_prefix+str(i))\n",
    "                word.append(word_tag[0])\n",
    "                tag.append(word_tag[-1])\n",
    "\n",
    "        df = pd.DataFrame({\"sentence_id\":id,\"tokens\":word,\"tags\":tag})\n",
    "        if mapper:\n",
    "            df['tags'] = df['tags'].map(mapper)\n",
    "        return df"
   ]
  },
  {
   "cell_type": "code",
   "execution_count": 68,
   "metadata": {},
   "outputs": [],
   "source": [
    "train_bc5cdr = create_dataset('../datasets/BC5CDR-disease-train_dev.tsv',\"BC5CDR-\",mapper)\n",
    "train_ncbi = create_dataset('../datasets/NCBI-disease-train_dev.tsv',\"NCBI-\",mapper)\n",
    "\n",
    "test_bc5cdr = create_dataset('../datasets/BC5CDR-disease-test.tsv',\"BC5CDR-\",mapper)\n",
    "test_ncbi = create_dataset('../datasets/NCBI-disease-test.tsv',\"NCBI-\",mapper)\n"
   ]
  },
  {
   "cell_type": "code",
   "execution_count": 69,
   "metadata": {},
   "outputs": [],
   "source": [
    "train_dataframe = pd.concat([train_bc5cdr,train_ncbi])\n",
    "test_dataframe = pd.concat([test_bc5cdr,test_ncbi])"
   ]
  },
  {
   "cell_type": "code",
   "execution_count": 70,
   "metadata": {},
   "outputs": [],
   "source": [
    "def dataframe2dataset(dataframe,labels_name):\n",
    "    aggregator = lambda x: list(x)\n",
    "    dataframe = dataframe.groupby([\"sentence_id\"]).agg({\"tokens\":aggregator,\"tags\":aggregator}).copy()\n",
    "    ner_dataset = Dataset.from_pandas(dataframe)\n",
    "    ner_dataset.features[\"tags\"].feature = ClassLabel(num_classes=len(labels_name), names=labels_name, id=[0,1,2])\n",
    "    #ner_feature = ner_dataset.features[\"tags\"]\n",
    "    return ner_dataset"
   ]
  },
  {
   "cell_type": "code",
   "execution_count": 71,
   "metadata": {},
   "outputs": [],
   "source": [
    "train_dataframe = dataframe2dataset(train_dataframe,labels_name)\n",
    "test_dataframe = dataframe2dataset(test_dataframe,labels_name)"
   ]
  },
  {
   "cell_type": "code",
   "execution_count": 72,
   "metadata": {},
   "outputs": [],
   "source": [
    "ds = DatasetDict({\"train\":train_dataframe,\"test\":test_dataframe})"
   ]
  },
  {
   "cell_type": "code",
   "execution_count": 73,
   "metadata": {},
   "outputs": [
    {
     "name": "stderr",
     "output_type": "stream",
     "text": [
      "Pushing split train to the Hub.\n",
      "Pushing dataset shards to the dataset hub: 100%|██████████| 1/1 [00:03<00:00,  3.93s/it]\n",
      "Pushing split test to the Hub.\n",
      "Pushing dataset shards to the dataset hub: 100%|██████████| 1/1 [00:03<00:00,  3.68s/it]\n"
     ]
    }
   ],
   "source": [
    "ds.push_to_hub(\"rjac/biobert-ner-diseases-dataset\",max_shard_size=\"250MB\",private=False,token=os.getenv(\"TOKEN_HF\"))"
   ]
  }
 ],
 "metadata": {
  "kernelspec": {
   "display_name": "Python 3.8.0 ('mlops-healthcare-domain')",
   "language": "python",
   "name": "python3"
  },
  "language_info": {
   "codemirror_mode": {
    "name": "ipython",
    "version": 3
   },
   "file_extension": ".py",
   "mimetype": "text/x-python",
   "name": "python",
   "nbconvert_exporter": "python",
   "pygments_lexer": "ipython3",
   "version": "3.10.6"
  },
  "orig_nbformat": 4,
  "vscode": {
   "interpreter": {
    "hash": "e07d6e64d286026e0cbdcde87cc23877c1b5d212d06484c1509c4eee368413e6"
   }
  }
 },
 "nbformat": 4,
 "nbformat_minor": 2
}
