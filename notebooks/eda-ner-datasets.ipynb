{
 "cells": [
  {
   "cell_type": "code",
   "execution_count": 1,
   "metadata": {},
   "outputs": [
    {
     "name": "stderr",
     "output_type": "stream",
     "text": [
      "/home/rjac/anaconda3/envs/mlops-healthcare-domain/lib/python3.10/site-packages/tqdm/auto.py:22: TqdmWarning: IProgress not found. Please update jupyter and ipywidgets. See https://ipywidgets.readthedocs.io/en/stable/user_install.html\n",
      "  from .autonotebook import tqdm as notebook_tqdm\n"
     ]
    }
   ],
   "source": [
    "import pandas as pd\n",
    "import numpy as np\n",
    "from datasets import Dataset"
   ]
  },
  {
   "cell_type": "code",
   "execution_count": null,
   "metadata": {},
   "outputs": [
    {
     "ename": "",
     "evalue": "",
     "output_type": "error",
     "traceback": [
      "\u001b[1;31mnotebook controller is DISPOSED. \n",
      "\u001b[1;31mView Jupyter <a href='command:jupyter.viewOutput'>log</a> for further details."
     ]
    }
   ],
   "source": [
    "mapper = {\"O\":0,\"B\":1,\"I\":2}"
   ]
  },
  {
   "cell_type": "code",
   "execution_count": null,
   "metadata": {},
   "outputs": [
    {
     "ename": "",
     "evalue": "",
     "output_type": "error",
     "traceback": [
      "\u001b[1;31mnotebook controller is DISPOSED. \n",
      "\u001b[1;31mView Jupyter <a href='command:jupyter.viewOutput'>log</a> for further details."
     ]
    }
   ],
   "source": [
    "def create_dataset(path,id_prefix,mapper = None):\n",
    "    with open(path, 'r') as f:\n",
    "        lines = f.readlines()\n",
    "        corpus =[]\n",
    "        sentences = []\n",
    "        for line in lines:\n",
    "            if line != '\\n':\n",
    "                sentences.append(line)\n",
    "            else:\n",
    "                corpus.append(sentences)\n",
    "                sentences = []\n",
    "        id = []\n",
    "        word = []\n",
    "        tag = []\n",
    "        for i,lines in enumerate(corpus):\n",
    "            for line in lines:\n",
    "                word_tag = line.replace(\"\\n\",'').split('\\t')\n",
    "                id.append(id_prefix+str(i))\n",
    "                word.append(word_tag[0])\n",
    "                tag.append(word_tag[-1])\n",
    "\n",
    "        df = pd.DataFrame({\"sentence_id\":id,\"tokens\":word,\"tags\":tag})\n",
    "        if mapper:\n",
    "            df['tags'] = df['tags'].map(mapper)\n",
    "        return df"
   ]
  },
  {
   "cell_type": "code",
   "execution_count": 2,
   "metadata": {},
   "outputs": [
    {
     "ename": "NameError",
     "evalue": "name 'create_dataset' is not defined",
     "output_type": "error",
     "traceback": [
      "\u001b[0;31m---------------------------------------------------------------------------\u001b[0m",
      "\u001b[0;31mNameError\u001b[0m                                 Traceback (most recent call last)",
      "\u001b[1;32m/home/rjac/FourthBrain/MLOPS/mlops-nlp-healthcare-domain/notebooks/eda-ner-datasets.ipynb Cell 4\u001b[0m in \u001b[0;36m<cell line: 1>\u001b[0;34m()\u001b[0m\n\u001b[0;32m----> <a href='vscode-notebook-cell://wsl%2Bubuntu/home/rjac/FourthBrain/MLOPS/mlops-nlp-healthcare-domain/notebooks/eda-ner-datasets.ipynb#W2sdnNjb2RlLXJlbW90ZQ%3D%3D?line=0'>1</a>\u001b[0m bc5cdr \u001b[39m=\u001b[39m create_dataset(\u001b[39m'\u001b[39m\u001b[39m../datasets/BC5CDR-disease-train.tsv\u001b[39m\u001b[39m'\u001b[39m,\u001b[39m\"\u001b[39m\u001b[39mBC5CDR\u001b[39m\u001b[39m\"\u001b[39m,mapper)\n\u001b[1;32m      <a href='vscode-notebook-cell://wsl%2Bubuntu/home/rjac/FourthBrain/MLOPS/mlops-nlp-healthcare-domain/notebooks/eda-ner-datasets.ipynb#W2sdnNjb2RlLXJlbW90ZQ%3D%3D?line=1'>2</a>\u001b[0m ncbi \u001b[39m=\u001b[39m create_dataset(\u001b[39m'\u001b[39m\u001b[39m../datasets/NCBI-disease-train.tsv\u001b[39m\u001b[39m'\u001b[39m,\u001b[39m\"\u001b[39m\u001b[39mNCBI\u001b[39m\u001b[39m\"\u001b[39m,mapper)\n",
      "\u001b[0;31mNameError\u001b[0m: name 'create_dataset' is not defined"
     ]
    }
   ],
   "source": [
    "bc5cdr = create_dataset('../datasets/BC5CDR-disease-train.tsv',\"BC5CDR\",mapper)\n",
    "ncbi = create_dataset('../datasets/NCBI-disease-train.tsv',\"NCBI\",mapper)"
   ]
  },
  {
   "cell_type": "code",
   "execution_count": null,
   "metadata": {},
   "outputs": [
    {
     "ename": "",
     "evalue": "",
     "output_type": "error",
     "traceback": [
      "\u001b[1;31mnotebook controller is DISPOSED. \n",
      "\u001b[1;31mView Jupyter <a href='command:jupyter.viewOutput'>log</a> for further details."
     ]
    }
   ],
   "source": [
    "dataframe = pd.concat([bc5cdr,ncbi])"
   ]
  },
  {
   "cell_type": "code",
   "execution_count": 13,
   "metadata": {},
   "outputs": [],
   "source": [
    "aggregator = lambda x: list(x)"
   ]
  },
  {
   "cell_type": "code",
   "execution_count": 8,
   "metadata": {},
   "outputs": [],
   "source": [
    "dataframe = dataframe.groupby([\"sentence_id\"]).agg({\"tokens\":aggregator,\"tags\":aggregator})"
   ]
  },
  {
   "cell_type": "code",
   "execution_count": null,
   "metadata": {},
   "outputs": [],
   "source": []
  }
 ],
 "metadata": {
  "kernelspec": {
   "display_name": "Python 3.8.0 ('mlops-healthcare-domain')",
   "language": "python",
   "name": "python3"
  },
  "language_info": {
   "codemirror_mode": {
    "name": "ipython",
    "version": 3
   },
   "file_extension": ".py",
   "mimetype": "text/x-python",
   "name": "python",
   "nbconvert_exporter": "python",
   "pygments_lexer": "ipython3",
   "version": "3.10.6"
  },
  "orig_nbformat": 4,
  "vscode": {
   "interpreter": {
    "hash": "e07d6e64d286026e0cbdcde87cc23877c1b5d212d06484c1509c4eee368413e6"
   }
  }
 },
 "nbformat": 4,
 "nbformat_minor": 2
}
